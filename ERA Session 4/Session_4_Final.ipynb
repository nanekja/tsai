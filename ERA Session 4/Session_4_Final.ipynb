{
  "cells": [
    {
      "cell_type": "markdown",
      "metadata": {
        "id": "n09vaEgP6pLj"
      },
      "source": [
        "CODE BLOCK: 1"
      ]
    },
    {
      "cell_type": "code",
      "execution_count": 1,
      "metadata": {
        "colab": {
          "base_uri": "https://localhost:8080/"
        },
        "id": "6PlbomWY3RSq",
        "outputId": "53266c53-37f2-4c2c-883b-064f7c8c0e32"
      },
      "outputs": [
        {
          "name": "stdout",
          "output_type": "stream",
          "text": [
            "Defaulting to user installation because normal site-packages is not writeable\n",
            "Requirement already satisfied: torchsummary in /home/nanekja/.local/lib/python3.10/site-packages (1.5.1)\n"
          ]
        }
      ],
      "source": [
        "import torch\n",
        "# Torch is the top level PyTorch package in tensor library. Hence, we are importing it first\n",
        "import torch.nn as nn\n",
        "# Importing the base class for all neural network modules\n",
        "import torch.nn.functional as F\n",
        "# Importing functional class that contains convolutions and other related functions\n",
        "import torch.optim as optim\n",
        "# torch.optim is a package implementing various optimization algorithms\n",
        "from torchvision import datasets, transforms\n",
        "# torchvision is a package that provides us access to popular datasets, model architectures & image transformations for computer vision\n",
        "# torchvision.transforms is an interface to give us access to common tranformations for image processing\n",
        "!pip install torchsummary\n",
        "# This is collab way to install packages and here we are installing torchsummary\n",
        "from torchsummary import summary\n",
        "# Summary provides us insight into model parameters"
      ]
    },
    {
      "cell_type": "markdown",
      "metadata": {
        "id": "VjBHHQVA6sXt"
      },
      "source": [
        "CODE BLOCK: 2"
      ]
    },
    {
      "cell_type": "code",
      "execution_count": 2,
      "metadata": {
        "colab": {
          "base_uri": "https://localhost:8080/"
        },
        "id": "94BxVVBP3WwS",
        "outputId": "5f314a10-c074-4d6c-dca9-ead9220f6d00"
      },
      "outputs": [
        {
          "name": "stdout",
          "output_type": "stream",
          "text": [
            "CUDA Available? False\n"
          ]
        }
      ],
      "source": [
        "# CUDA Available?\n",
        "cuda = torch.cuda.is_available()\n",
        "# We are checking with PyTorch whether cuda library is available. This cuda library will help to accelerate execution of the model on the GPU\n",
        "print(\"CUDA Available?\", cuda)\n",
        "device = torch.device(\"cuda\" if cuda else \"cpu\")\n",
        "# We are storing the result of validation in variable called \"device\""
      ]
    },
    {
      "cell_type": "markdown",
      "metadata": {
        "id": "3UHq59Sw6tmW"
      },
      "source": [
        "CODE BLOCK: 3"
      ]
    },
    {
      "cell_type": "code",
      "execution_count": 3,
      "metadata": {
        "id": "KpshQ2Ug38m2"
      },
      "outputs": [],
      "source": [
        "# Train data transformations\n",
        "train_transforms = transforms.Compose([\n",
        "    # This is the Transform (T) part of the ETL process where we are transforming the data into tensors\n",
        "    transforms.RandomApply([transforms.CenterCrop(22), ], p=0.1),\n",
        "    # It does a crop in the center in a random fashion\n",
        "    transforms.Resize((28, 28)),\n",
        "    # resizes the image to 28 x 28\n",
        "    transforms.RandomRotation((-15., 15.), fill=0),\n",
        "    # performs a rotation in a random way based on parameters entered\n",
        "    transforms.ToTensor(),\n",
        "    # Immediately after downloading the dataset, we are converting it into tensor\n",
        "    # Converting to Tensor facilitates following: a) It allows porting data to GPU b) It standardizes the values from 0-255 to 0-1\n",
        "    transforms.Normalize((0.1307,), (0.3081,)),\n",
        "    # Normalization is done to bring lot of bright or dull images to similar level of brightness of other images\n",
        "    ])\n",
        "\n",
        "# Test data transformations\n",
        "test_transforms = transforms.Compose([\n",
        "    # This is the Transform (T) part of the ETL process where we are transforming the data into tensors\n",
        "    transforms.ToTensor(),\n",
        "    # Immediately after downloading the dataset, we are converting it into tensor\n",
        "    # Converting to Tensor facilitates following: a) It allows porting data to GPU b) It standardizes the values from 0-255 to 0-1\n",
        "    transforms.Normalize((0.1307,), (0.3081,))\n",
        "    # Normalization is done to bring lot of bright or dull images to similar level of brightness of other images\n",
        "    ])"
      ]
    },
    {
      "cell_type": "markdown",
      "metadata": {
        "id": "zQm17pM46zHL"
      },
      "source": [
        "CODE BLOCK: 4"
      ]
    },
    {
      "cell_type": "code",
      "execution_count": 4,
      "metadata": {
        "colab": {
          "base_uri": "https://localhost:8080/"
        },
        "id": "JB79ZYW13-AO",
        "outputId": "ab62284f-c0d6-49ec-8e90-7421f239892f"
      },
      "outputs": [],
      "source": [
        "train_data = datasets.MNIST('../data', train=True, download=True, transform=train_transforms)\n",
        "# The dataset named \"MNIST\" is being called from within the torchvision available datasets\n",
        "# MNIST is a dataset containing handwritten digits\n",
        "# The training part of the dataset is downloaded to ../data location\n",
        "# This is also the Extract (E) part of the ETL process where we are going to extract the dataset from raw data\n",
        "test_data = datasets.MNIST('../data', train=False, download=True, transform=test_transforms)\n",
        "# The test part of the dataset is downloaded to ../data location"
      ]
    },
    {
      "cell_type": "markdown",
      "metadata": {
        "id": "_PKSHxto6116"
      },
      "source": [
        "CODE BLOCK: 5"
      ]
    },
    {
      "cell_type": "code",
      "execution_count": 5,
      "metadata": {
        "id": "avCKK1uL4A68"
      },
      "outputs": [],
      "source": [
        "batch_size = 32\n",
        "# Batch Size is a tunable parameter that tells us how many images can be sent in parallel to the model. \n",
        "# This depends on the available memory and can be increased/decreased accordingly. This is tuned after the model is ran and based on available memory\n",
        "kwargs = {'batch_size': batch_size, 'shuffle': True, 'num_workers': 2, 'pin_memory': True}\n",
        "\n",
        "train_loader = torch.utils.data.DataLoader(train_data, **kwargs)\n",
        "# trainloader is sort of \"for\" loop for us which will allow to look at or load a lot of images (~batch_size) at same time\n",
        "# torch.utils.data.DataLoader wraps a dataset and provides access to the underlying data\n",
        "test_loader = torch.utils.data.DataLoader(test_data, **kwargs)\n",
        "# test till help to check accuracy of our model"
      ]
    },
    {
      "cell_type": "markdown",
      "metadata": {
        "id": "Hi_0rfq56-29"
      },
      "source": [
        "CODE BLOCK: 6"
      ]
    },
    {
      "cell_type": "code",
      "execution_count": 6,
      "metadata": {
        "colab": {
          "base_uri": "https://localhost:8080/",
          "height": 463
        },
        "id": "Hx7QkLcw4Epc",
        "outputId": "2ec6d77b-7900-4ef6-c67f-88e33c5c8407"
      },
      "outputs": [
        {
          "data": {
            "image/png": "[encoded data removed]",
            "text/plain": [
              "<Figure size 640x480 with 12 Axes>"
            ]
          },
          "metadata": {},
          "output_type": "display_data"
        }
      ],
      "source": [
        "import matplotlib.pyplot as plt\n",
        "\n",
        "batch_data, batch_label = next(iter(train_loader)) \n",
        "\n",
        "fig = plt.figure()\n",
        "\n",
        "for i in range(12):\n",
        "  plt.subplot(3,4,i+1)\n",
        "  plt.tight_layout()\n",
        "  plt.imshow(batch_data[i].squeeze(0), cmap='gray')\n",
        "  plt.title(batch_label[i].item())\n",
        "  plt.xticks([])\n",
        "  plt.yticks([])"
      ]
    },
    {
      "cell_type": "markdown",
      "metadata": {
        "id": "y3XbVJSb7Aee"
      },
      "source": [
        "CODE BLOCK: 7"
      ]
    },
    {
      "cell_type": "code",
      "execution_count": 7,
      "metadata": {
        "id": "UHBolvMH4F8y"
      },
      "outputs": [],
      "source": [
        "class Net(nn.Module):\n",
        "    #This defines the structure of the NN.\n",
        "    def __init__(self):\n",
        "        super(Net, self).__init__()\n",
        "        self.conv1 = nn.Conv2d(1, 32, kernel_size=3) \n",
        "        self.conv2 = nn.Conv2d(32, 64, kernel_size=3)\n",
        "        self.conv3 = nn.Conv2d(64, 128, kernel_size=3)\n",
        "        self.conv4 = nn.Conv2d(128, 256, kernel_size=3)\n",
        "        self.fc1 = nn.Linear(256*4*4, 50)\n",
        "        self.fc2 = nn.Linear(50, 10)\n",
        "\n",
        "    def forward(self, x):                                 # Channel Size | RF | Jump Parameter\n",
        "        x = F.relu(self.conv1(x))                         # 28 > 26 | 1>3 | 1>1\n",
        "        x = F.max_pool2d(F.relu(self.conv2(x)),2)         # 26 > 24 > 12 | 3>5>6 | 1>1>2\n",
        "        x = F.relu(self.conv3(x))                         # 12>10 | 6>10 | 2>2\n",
        "        x =F.max_pool2d(F.relu(self.conv4(x)),2)          # 10>8>4 | 10>14>16 | 2>2>4\n",
        "        x = x.view(-1, 4096)                              # 4*4*256 = 4096\n",
        "\n",
        "        x = F.relu(self.fc1(x))                           # 4*4*256 input layers -> 50 hidden layers\n",
        "\n",
        "        x = self.fc2(x)                                   # 50 hidden layers -> 10 layers  \n",
        "\n",
        "        \n",
        "        return F.log_softmax(x, dim=1)\n",
        "        # Applies a softmax followed by a logarithm.\n",
        "        # While mathematically equivalent to log(softmax(x)), doing these two operations separately is slower and numerically unstable. \n",
        "        # This function uses an alternative formulation to compute the output and gradient correctly."
      ]
    },
    {
      "cell_type": "markdown",
      "metadata": {
        "id": "89gd4_s7AO2y"
      },
      "source": [
        "CODE BLOCK: 8"
      ]
    },
    {
      "cell_type": "code",
      "execution_count": 8,
      "metadata": {
        "id": "7du4zM474LvT"
      },
      "outputs": [],
      "source": [
        "# Data to plot accuracy and loss graphs\n",
        "train_losses = []\n",
        "test_losses = []\n",
        "train_acc = []\n",
        "test_acc = []\n",
        "\n",
        "test_incorrect_pred = {'images': [], 'ground_truths': [], 'predicted_vals': []}"
      ]
    },
    {
      "cell_type": "markdown",
      "metadata": {
        "id": "kCwIPHqwAQgB"
      },
      "source": [
        "CODE BLOCK: 8"
      ]
    },
    {
      "cell_type": "code",
      "execution_count": 9,
      "metadata": {
        "id": "gpNw3-sy4QGd"
      },
      "outputs": [
        {
          "ename": "ModuleNotFoundError",
          "evalue": "No module named 'tqdm'",
          "output_type": "error",
          "traceback": [
            "\u001b[0;31m---------------------------------------------------------------------------\u001b[0m",
            "\u001b[0;31mModuleNotFoundError\u001b[0m                       Traceback (most recent call last)",
            "Cell \u001b[0;32mIn[9], line 1\u001b[0m\n\u001b[0;32m----> 1\u001b[0m \u001b[38;5;28;01mfrom\u001b[39;00m \u001b[38;5;21;01mtqdm\u001b[39;00m \u001b[38;5;28;01mimport\u001b[39;00m tqdm\n\u001b[1;32m      3\u001b[0m \u001b[38;5;28;01mdef\u001b[39;00m \u001b[38;5;21mGetCorrectPredCount\u001b[39m(pPrediction, pLabels):\n\u001b[1;32m      4\u001b[0m   \u001b[38;5;28;01mreturn\u001b[39;00m pPrediction\u001b[38;5;241m.\u001b[39margmax(dim\u001b[38;5;241m=\u001b[39m\u001b[38;5;241m1\u001b[39m)\u001b[38;5;241m.\u001b[39meq(pLabels)\u001b[38;5;241m.\u001b[39msum()\u001b[38;5;241m.\u001b[39mitem()\n",
            "\u001b[0;31mModuleNotFoundError\u001b[0m: No module named 'tqdm'"
          ]
        }
      ],
      "source": [
        "\n",
        "from tqdm import tqdm\n",
        "\n",
        "def GetCorrectPredCount(pPrediction, pLabels):\n",
        "  return pPrediction.argmax(dim=1).eq(pLabels).sum().item()\n",
        "\n",
        "def train(model, device, train_loader, optimizer):\n",
        "  model.train()\n",
        "  # here we are using the train component of the model\n",
        "  pbar = tqdm(train_loader)\n",
        "\n",
        "  train_loss = 0\n",
        "  correct = 0\n",
        "  processed = 0\n",
        "\n",
        "  for batch_idx, (data, target) in enumerate(pbar):\n",
        "    # here above we are looping through each batch represented by batch id (like 4th batch, 5th batch, etc) and data is images of batch and target is the label  \n",
        "    data, target = data.to(device), target.to(device)\n",
        "    # since model is being trained on GPU, we need to send data and targets also to GPU. They can't be on CPU\n",
        "    optimizer.zero_grad()\n",
        "    # When we do back propagation, the gradients will be stored at one place and we need to initiate gradients as zero to begin withwhich is done in this step\n",
        "    # Predict\n",
        "    pred = model(data)\n",
        "\n",
        "    # Calculate loss\n",
        "    loss = F.nll_loss(pred, target)\n",
        "    # Computing loss using negative likelyhood loss function. Comparision is made between predicted output with targets\n",
        "    train_loss+=loss.item()\n",
        "\n",
        "    # Backpropagation\n",
        "    loss.backward()\n",
        "    # The loss is sent to backpropagation and here the gradients are computed based on the loss\n",
        "    optimizer.step()\n",
        "    # Applying the gradients to the parameters\n",
        "    correct += GetCorrectPredCount(pred, target)\n",
        "    processed += len(data)\n",
        "\n",
        "    pbar.set_description(desc= f'Train: Loss={loss.item():0.4f} Batch_id={batch_idx} Accuracy={100*correct/processed:0.2f}')\n",
        "\n",
        "  train_acc.append(100*correct/processed)\n",
        "  train_losses.append(train_loss/len(train_loader))\n",
        "\n",
        "def test(model, device, test_loader):\n",
        "    model.eval()\n",
        "    # here we are involking the evaluation method of the model object\n",
        "    test_loss = 0\n",
        "    correct = 0\n",
        "\n",
        "    with torch.no_grad():\n",
        "        for batch_idx, (data, target) in enumerate(test_loader):\n",
        "            # Here we are looping through the images and labels in the test dataset\n",
        "            data, target = data.to(device), target.to(device)\n",
        "            # since model is being trained on GPU, we need to send data and targets also to GPU. They can't be on CPU\n",
        "            output = model(data)\n",
        "            # we are sending model output to output variable\n",
        "            test_loss += F.nll_loss(output, target, reduction='sum').item()  # sum up batch loss\n",
        "            # Computing loss using negative likelyhood loss function. Comparision is made between predicted output with targets\n",
        "            # We are also summing up batch loss\n",
        "            correct += GetCorrectPredCount(output, target)\n",
        "            # Summing up the correct predictions\n",
        "\n",
        "    test_loss /= len(test_loader.dataset)\n",
        "    test_acc.append(100. * correct / len(test_loader.dataset))\n",
        "    test_losses.append(test_loss)\n",
        "\n",
        "    print('Test set: Average loss: {:.4f}, Accuracy: {}/{} ({:.2f}%)\\n'.format(\n",
        "        test_loss, correct, len(test_loader.dataset),\n",
        "        100. * correct / len(test_loader.dataset)))\n",
        "     "
      ]
    },
    {
      "cell_type": "markdown",
      "metadata": {
        "id": "09GYKBGRAT5M"
      },
      "source": [
        "CODE BLOCK: 9"
      ]
    },
    {
      "cell_type": "code",
      "execution_count": null,
      "metadata": {
        "colab": {
          "base_uri": "https://localhost:8080/"
        },
        "id": "Owqiet9M4TV7",
        "outputId": "04e28490-7f99-4556-90e1-2257bbacf3a9"
      },
      "outputs": [
        {
          "name": "stdout",
          "output_type": "stream",
          "text": [
            "Adjusting learning rate of group 0 to 1.0000e-02.\n",
            "Epoch 1\n"
          ]
        },
        {
          "name": "stderr",
          "output_type": "stream",
          "text": [
            "Train: Loss=0.0746 Batch_id=1874 Accuracy=93.77: 100%|██████████| 1875/1875 [00:49<00:00, 37.81it/s]\n"
          ]
        },
        {
          "name": "stdout",
          "output_type": "stream",
          "text": [
            "Test set: Average loss: 0.0386, Accuracy: 9885/10000 (98.85%)\n",
            "\n",
            "Adjusting learning rate of group 0 to 1.0000e-02.\n",
            "Epoch 2\n"
          ]
        },
        {
          "name": "stderr",
          "output_type": "stream",
          "text": [
            "Train: Loss=0.0276 Batch_id=1874 Accuracy=98.15: 100%|██████████| 1875/1875 [00:39<00:00, 47.66it/s]\n"
          ]
        },
        {
          "name": "stdout",
          "output_type": "stream",
          "text": [
            "Test set: Average loss: 0.0277, Accuracy: 9908/10000 (99.08%)\n",
            "\n",
            "Adjusting learning rate of group 0 to 1.0000e-02.\n",
            "Epoch 3\n"
          ]
        },
        {
          "name": "stderr",
          "output_type": "stream",
          "text": [
            "Train: Loss=0.1718 Batch_id=1874 Accuracy=98.61: 100%|██████████| 1875/1875 [00:38<00:00, 48.74it/s]\n"
          ]
        },
        {
          "name": "stdout",
          "output_type": "stream",
          "text": [
            "Test set: Average loss: 0.0340, Accuracy: 9889/10000 (98.89%)\n",
            "\n",
            "Adjusting learning rate of group 0 to 1.0000e-02.\n",
            "Epoch 4\n"
          ]
        },
        {
          "name": "stderr",
          "output_type": "stream",
          "text": [
            "Train: Loss=0.0026 Batch_id=1874 Accuracy=98.83: 100%|██████████| 1875/1875 [00:36<00:00, 51.24it/s]\n"
          ]
        },
        {
          "name": "stdout",
          "output_type": "stream",
          "text": [
            "Test set: Average loss: 0.0253, Accuracy: 9914/10000 (99.14%)\n",
            "\n",
            "Adjusting learning rate of group 0 to 1.0000e-02.\n",
            "Epoch 5\n"
          ]
        },
        {
          "name": "stderr",
          "output_type": "stream",
          "text": [
            "Train: Loss=0.0075 Batch_id=1874 Accuracy=99.00: 100%|██████████| 1875/1875 [00:36<00:00, 51.10it/s]\n"
          ]
        },
        {
          "name": "stdout",
          "output_type": "stream",
          "text": [
            "Test set: Average loss: 0.0270, Accuracy: 9921/10000 (99.21%)\n",
            "\n",
            "Adjusting learning rate of group 0 to 1.0000e-03.\n",
            "Epoch 6\n"
          ]
        },
        {
          "name": "stderr",
          "output_type": "stream",
          "text": [
            "Train: Loss=0.0223 Batch_id=1874 Accuracy=99.42: 100%|██████████| 1875/1875 [00:38<00:00, 48.52it/s]\n"
          ]
        },
        {
          "name": "stdout",
          "output_type": "stream",
          "text": [
            "Test set: Average loss: 0.0183, Accuracy: 9942/10000 (99.42%)\n",
            "\n",
            "Adjusting learning rate of group 0 to 1.0000e-03.\n",
            "Epoch 7\n"
          ]
        },
        {
          "name": "stderr",
          "output_type": "stream",
          "text": [
            "Train: Loss=0.0004 Batch_id=1874 Accuracy=99.53: 100%|██████████| 1875/1875 [00:37<00:00, 50.63it/s]\n"
          ]
        },
        {
          "name": "stdout",
          "output_type": "stream",
          "text": [
            "Test set: Average loss: 0.0179, Accuracy: 9941/10000 (99.41%)\n",
            "\n",
            "Adjusting learning rate of group 0 to 1.0000e-03.\n",
            "Epoch 8\n"
          ]
        },
        {
          "name": "stderr",
          "output_type": "stream",
          "text": [
            "Train: Loss=0.0096 Batch_id=1874 Accuracy=99.55: 100%|██████████| 1875/1875 [00:36<00:00, 50.93it/s]\n"
          ]
        },
        {
          "name": "stdout",
          "output_type": "stream",
          "text": [
            "Test set: Average loss: 0.0171, Accuracy: 9951/10000 (99.51%)\n",
            "\n",
            "Adjusting learning rate of group 0 to 1.0000e-03.\n",
            "Epoch 9\n"
          ]
        },
        {
          "name": "stderr",
          "output_type": "stream",
          "text": [
            "Train: Loss=0.0095 Batch_id=1874 Accuracy=99.54: 100%|██████████| 1875/1875 [00:37<00:00, 50.15it/s]\n"
          ]
        },
        {
          "name": "stdout",
          "output_type": "stream",
          "text": [
            "Test set: Average loss: 0.0171, Accuracy: 9953/10000 (99.53%)\n",
            "\n",
            "Adjusting learning rate of group 0 to 1.0000e-03.\n",
            "Epoch 10\n"
          ]
        },
        {
          "name": "stderr",
          "output_type": "stream",
          "text": [
            "Train: Loss=0.0022 Batch_id=1874 Accuracy=99.59: 100%|██████████| 1875/1875 [00:37<00:00, 50.35it/s]\n"
          ]
        },
        {
          "name": "stdout",
          "output_type": "stream",
          "text": [
            "Test set: Average loss: 0.0166, Accuracy: 9948/10000 (99.48%)\n",
            "\n",
            "Adjusting learning rate of group 0 to 1.0000e-04.\n",
            "Epoch 11\n"
          ]
        },
        {
          "name": "stderr",
          "output_type": "stream",
          "text": [
            "Train: Loss=0.0036 Batch_id=1874 Accuracy=99.64: 100%|██████████| 1875/1875 [00:36<00:00, 51.96it/s]\n"
          ]
        },
        {
          "name": "stdout",
          "output_type": "stream",
          "text": [
            "Test set: Average loss: 0.0168, Accuracy: 9948/10000 (99.48%)\n",
            "\n",
            "Adjusting learning rate of group 0 to 1.0000e-04.\n",
            "Epoch 12\n"
          ]
        },
        {
          "name": "stderr",
          "output_type": "stream",
          "text": [
            "Train: Loss=0.0003 Batch_id=1874 Accuracy=99.59: 100%|██████████| 1875/1875 [00:35<00:00, 53.33it/s]\n"
          ]
        },
        {
          "name": "stdout",
          "output_type": "stream",
          "text": [
            "Test set: Average loss: 0.0168, Accuracy: 9950/10000 (99.50%)\n",
            "\n",
            "Adjusting learning rate of group 0 to 1.0000e-04.\n",
            "Epoch 13\n"
          ]
        },
        {
          "name": "stderr",
          "output_type": "stream",
          "text": [
            "Train: Loss=0.0002 Batch_id=1874 Accuracy=99.62: 100%|██████████| 1875/1875 [00:34<00:00, 53.77it/s]\n"
          ]
        },
        {
          "name": "stdout",
          "output_type": "stream",
          "text": [
            "Test set: Average loss: 0.0169, Accuracy: 9949/10000 (99.49%)\n",
            "\n",
            "Adjusting learning rate of group 0 to 1.0000e-04.\n",
            "Epoch 14\n"
          ]
        },
        {
          "name": "stderr",
          "output_type": "stream",
          "text": [
            "Train: Loss=0.0015 Batch_id=1874 Accuracy=99.63: 100%|██████████| 1875/1875 [00:36<00:00, 51.24it/s]\n"
          ]
        },
        {
          "name": "stdout",
          "output_type": "stream",
          "text": [
            "Test set: Average loss: 0.0167, Accuracy: 9946/10000 (99.46%)\n",
            "\n",
            "Adjusting learning rate of group 0 to 1.0000e-04.\n",
            "Epoch 15\n"
          ]
        },
        {
          "name": "stderr",
          "output_type": "stream",
          "text": [
            "Train: Loss=0.0002 Batch_id=1874 Accuracy=99.61: 100%|██████████| 1875/1875 [00:35<00:00, 53.43it/s]\n"
          ]
        },
        {
          "name": "stdout",
          "output_type": "stream",
          "text": [
            "Test set: Average loss: 0.0167, Accuracy: 9949/10000 (99.49%)\n",
            "\n",
            "Adjusting learning rate of group 0 to 1.0000e-05.\n",
            "Epoch 16\n"
          ]
        },
        {
          "name": "stderr",
          "output_type": "stream",
          "text": [
            "Train: Loss=0.0003 Batch_id=1874 Accuracy=99.64: 100%|██████████| 1875/1875 [00:36<00:00, 51.69it/s]\n"
          ]
        },
        {
          "name": "stdout",
          "output_type": "stream",
          "text": [
            "Test set: Average loss: 0.0167, Accuracy: 9949/10000 (99.49%)\n",
            "\n",
            "Adjusting learning rate of group 0 to 1.0000e-05.\n",
            "Epoch 17\n"
          ]
        },
        {
          "name": "stderr",
          "output_type": "stream",
          "text": [
            "Train: Loss=0.0318 Batch_id=1874 Accuracy=99.59: 100%|██████████| 1875/1875 [00:35<00:00, 52.72it/s]\n"
          ]
        },
        {
          "name": "stdout",
          "output_type": "stream",
          "text": [
            "Test set: Average loss: 0.0167, Accuracy: 9948/10000 (99.48%)\n",
            "\n",
            "Adjusting learning rate of group 0 to 1.0000e-05.\n",
            "Epoch 18\n"
          ]
        },
        {
          "name": "stderr",
          "output_type": "stream",
          "text": [
            "Train: Loss=0.0669 Batch_id=1874 Accuracy=99.62: 100%|██████████| 1875/1875 [00:37<00:00, 50.62it/s]\n"
          ]
        },
        {
          "name": "stdout",
          "output_type": "stream",
          "text": [
            "Test set: Average loss: 0.0168, Accuracy: 9949/10000 (99.49%)\n",
            "\n",
            "Adjusting learning rate of group 0 to 1.0000e-05.\n",
            "Epoch 19\n"
          ]
        },
        {
          "name": "stderr",
          "output_type": "stream",
          "text": [
            "Train: Loss=0.0002 Batch_id=1874 Accuracy=99.64: 100%|██████████| 1875/1875 [00:36<00:00, 51.25it/s]\n"
          ]
        },
        {
          "name": "stdout",
          "output_type": "stream",
          "text": [
            "Test set: Average loss: 0.0168, Accuracy: 9948/10000 (99.48%)\n",
            "\n",
            "Adjusting learning rate of group 0 to 1.0000e-05.\n",
            "Epoch 20\n"
          ]
        },
        {
          "name": "stderr",
          "output_type": "stream",
          "text": [
            "Train: Loss=0.0013 Batch_id=1874 Accuracy=99.60: 100%|██████████| 1875/1875 [00:36<00:00, 51.48it/s]\n"
          ]
        },
        {
          "name": "stdout",
          "output_type": "stream",
          "text": [
            "Test set: Average loss: 0.0168, Accuracy: 9948/10000 (99.48%)\n",
            "\n",
            "Adjusting learning rate of group 0 to 1.0000e-06.\n"
          ]
        }
      ],
      "source": [
        "model = Net().to(device)\n",
        "# Creating an object of the class we created and sending that object to GPU\n",
        "optimizer = optim.SGD(model.parameters(), lr=0.01, momentum=0.9)\n",
        "# Optimizes using stochastic gradient descent optimization algorithm with learning rate of 0.01 and momentum of 0.9\n",
        "scheduler = optim.lr_scheduler.StepLR(optimizer, step_size=5, gamma=0.1, verbose=True)\n",
        "num_epochs = 20\n",
        "\n",
        "for epoch in range(1, num_epochs+1):\n",
        "  print(f'Epoch {epoch}')\n",
        "  train(model, device, train_loader, optimizer)\n",
        "  test(model, device, test_loader)\n",
        "  scheduler.step()"
      ]
    },
    {
      "cell_type": "code",
      "execution_count": null,
      "metadata": {
        "colab": {
          "base_uri": "https://localhost:8080/",
          "height": 870
        },
        "id": "Wu0l7dli4eC9",
        "outputId": "ace2d406-c734-4ed3-d15f-efef9ce6805b"
      },
      "outputs": [
        {
          "data": {
            "text/plain": [
              "Text(0.5, 1.0, 'Test Accuracy')"
            ]
          },
          "execution_count": 11,
          "metadata": {},
          "output_type": "execute_result"
        },
        {
          "data": {
            "image/png": "[encoded data removed]",
            "text/plain": [
              "<Figure size 1500x1000 with 4 Axes>"
            ]
          },
          "metadata": {},
          "output_type": "display_data"
        }
      ],
      "source": [
        "fig, axs = plt.subplots(2,2,figsize=(15,10))\n",
        "axs[0, 0].plot(train_losses)\n",
        "axs[0, 0].set_title(\"Training Loss\")\n",
        "axs[1, 0].plot(train_acc)\n",
        "axs[1, 0].set_title(\"Training Accuracy\")\n",
        "axs[0, 1].plot(test_losses)\n",
        "axs[0, 1].set_title(\"Test Loss\")\n",
        "axs[1, 1].plot(test_acc)\n",
        "axs[1, 1].set_title(\"Test Accuracy\")"
      ]
    },
    {
      "cell_type": "code",
      "execution_count": null,
      "metadata": {
        "colab": {
          "base_uri": "https://localhost:8080/"
        },
        "id": "C8WZPfXe4iK_",
        "outputId": "df624eb0-ab92-44a1-9df0-e3de8761e3b5"
      },
      "outputs": [
        {
          "name": "stdout",
          "output_type": "stream",
          "text": [
            "Looking in indexes: https://pypi.org/simple, https://us-python.pkg.dev/colab-wheels/public/simple/\n",
            "Requirement already satisfied: torchsummary in /usr/local/lib/python3.10/dist-packages (1.5.1)\n",
            "----------------------------------------------------------------\n",
            "        Layer (type)               Output Shape         Param #\n",
            "================================================================\n",
            "            Conv2d-1           [-1, 32, 26, 26]             320\n",
            "            Conv2d-2           [-1, 64, 24, 24]          18,496\n",
            "            Conv2d-3          [-1, 128, 10, 10]          73,856\n",
            "            Conv2d-4            [-1, 256, 8, 8]         295,168\n",
            "            Linear-5                   [-1, 50]         204,850\n",
            "            Linear-6                   [-1, 10]             510\n",
            "================================================================\n",
            "Total params: 593,200\n",
            "Trainable params: 593,200\n",
            "Non-trainable params: 0\n",
            "----------------------------------------------------------------\n",
            "Input size (MB): 0.00\n",
            "Forward/backward pass size (MB): 0.67\n",
            "Params size (MB): 2.26\n",
            "Estimated Total Size (MB): 2.94\n",
            "----------------------------------------------------------------\n"
          ]
        }
      ],
      "source": [
        "!pip install torchsummary\n",
        "from torchsummary import summary\n",
        "use_cuda = torch.cuda.is_available()\n",
        "device = torch.device(\"cuda\" if use_cuda else \"cpu\")\n",
        "model = Net().to(device)\n",
        "summary(model, input_size=(1, 28, 28))\n",
        "# To know the number of parameters of the model, we are using summary method from PyTorch"
      ]
    }
  ],
  "metadata": {
    "accelerator": "GPU",
    "colab": {
      "gpuType": "T4",
      "provenance": []
    },
    "kernelspec": {
      "display_name": "Python 3.10.6 64-bit",
      "language": "python",
      "name": "python3"
    },
    "language_info": {
      "codemirror_mode": {
        "name": "ipython",
        "version": 3
      },
      "file_extension": ".py",
      "mimetype": "text/x-python",
      "name": "python",
      "nbconvert_exporter": "python",
      "pygments_lexer": "ipython3",
      "version": "3.10.6"
    },
    "vscode": {
      "interpreter": {
        "hash": "916dbcbb3f70747c44a77c7bcd40155683ae19c65e1c03b4aa3499c5328201f1"
      }
    }
  },
  "nbformat": 4,
  "nbformat_minor": 0
}
